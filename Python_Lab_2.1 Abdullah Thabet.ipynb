{
 "cells": [
  {
   "cell_type": "markdown",
   "metadata": {
    "id": "x7F-mxeubDUG"
   },
   "source": [
    "# Python_Lab_2.1\n"
   ]
  },
  {
   "cell_type": "markdown",
   "metadata": {
    "id": "14c6Hn1BbDUH"
   },
   "source": [
    "### Task 1\n",
    "1. Write a function named is_prime that takes a number as a parameter and returns True if the number is prime and False otherwise. Print whether the number 29 is prime."
   ]
  },
  {
   "cell_type": "code",
   "execution_count": 5,
   "metadata": {
    "id": "5e_MZEN0bDUI"
   },
   "outputs": [
    {
     "name": "stdout",
     "output_type": "stream",
     "text": [
      "29 is a prime number\n"
     ]
    }
   ],
   "source": [
    "# write your code here ^_^\n",
    "import math\n",
    "\n",
    "def is_prime(number):\n",
    "    if number <= 1:\n",
    "        return False\n",
    "    for i in range(2, int(math.sqrt(number)) + 1):\n",
    "        if number % i == 0:\n",
    "            return False\n",
    "    return True\n",
    "\n",
    "number = 29\n",
    "boolval = is_prime(number)\n",
    "\n",
    "if boolval == True: \n",
    "   print(\"%s is a prime number\"%number)\n",
    "elif boolval == False:\n",
    "    print(\"%s is not a prime number\"%number)\n",
    "        "
   ]
  },
  {
   "cell_type": "markdown",
   "metadata": {
    "id": "2zKG8ZcybDUI"
   },
   "source": [
    "### Task 2\n",
    "1. Create a list of 10 numbers and sort them in descending order using the sort() function.\n",
    "2. Use the len() function to print the length of the sorted list.\n",
    "3. Use the zip() function to combine three lists (names, ages, and cities) into a list of tuples.\n",
    "4. Use the range() function to create a list of even numbers from 2 to 20 and print the list."
   ]
  },
  {
   "cell_type": "code",
   "execution_count": 31,
   "metadata": {
    "id": "yyoe__M_bDUI"
   },
   "outputs": [
    {
     "name": "stdout",
     "output_type": "stream",
     "text": [
      "[4, 7, 2, 3, 9, 1, 0, 8, 5, 6]\n",
      "[0, 1, 2, 3, 4, 5, 6, 7, 8, 9]\n",
      "length of the sorted list is  10\n",
      "[('Abdullah', 23, 'Jeddah'), ('Ali', 30, 'Makkah'), ('Anas', 21, 'Taif')]\n",
      "[2, 4, 6, 8, 10, 12, 14, 16, 18, 20]\n"
     ]
    }
   ],
   "source": [
    "# write your code here ^_^\n",
    "numbers = [4,7,2,3,9,1,0,8,5,6]\n",
    "print (numbers)\n",
    "numbers.sort()\n",
    "print(numbers)\n",
    "#-------------------------\n",
    "x=len(numbers)\n",
    "print(\"length of the sorted list is  %s\"%x)\n",
    "#----------------------------------------\n",
    "names = [\"Abdullah\",\"Ali\",\"Anas\"]\n",
    "ages = [23,30,21]\n",
    "cities = [\"Jeddah\",\"Makkah\",\"Taif\"]\n",
    "info = list(zip(names, ages,cities))\n",
    "print(info)\n",
    "#--------------------------------------\n",
    "rangeven=range(2,21,2)\n",
    "print(list(rangeven))"
   ]
  },
  {
   "cell_type": "markdown",
   "metadata": {
    "id": "aStW5p7AbDUI"
   },
   "source": [
    "### Task 3\n",
    "Build a phone book program that receives the phone number, and returns the name of the owner.\n",
    "You can follow the table below:\n",
    "\n",
    "| Name     | Number     |\n",
    "| -------- | ---------- |\n",
    "| Amal     | 1111111111 |\n",
    "| Mohammed | 2222222222 |\n",
    "| Khadijah | 3333333333 |\n",
    "| Abdullah | 4444444444 |\n",
    "| Rawan    | 5555555555 |\n",
    "| Faisal   | 6666666666 |\n",
    "| Layla    | 7777777777 |\n",
    "\n",
    "- If the number exists, print the owner. Otherwise, print \"Sorry, the number is not found\".\n",
    "- If the number is less or more than 10 numbers, print \"This is invalid number\".\n",
    "- If the number contains letters or symbols, print \"This is invalid number\".\n"
   ]
  },
  {
   "cell_type": "code",
   "execution_count": 73,
   "metadata": {
    "id": "kvXmjUe-bDUJ"
   },
   "outputs": [
    {
     "name": "stdout",
     "output_type": "stream",
     "text": [
      "{'Amal': 1111111111, 'Mohammed': 2222222222, 'Khadijah': 3333333333, 'Abdullah': 4444444444, 'Rawan': 5555555555, 'Faisal': 6666666666, 'Layla': 7777777777}\n"
     ]
    },
    {
     "name": "stdin",
     "output_type": "stream",
     "text": [
      "Enter Phone number :  4444444444\n"
     ]
    },
    {
     "name": "stdout",
     "output_type": "stream",
     "text": [
      "The owner is Abdullah.\n"
     ]
    }
   ],
   "source": [
    "# write your code here ^_^\n",
    "phonebook = {\n",
    "    \"Amal\": 1111111111,\n",
    "    \"Mohammed\": 2222222222,\n",
    "    \"Khadijah\": 3333333333,\n",
    "    \"Abdullah\": 4444444444,\n",
    "    \"Rawan\": 5555555555,\n",
    "    \"Faisal\": 6666666666,\n",
    "    \"Layla\": 7777777777,\n",
    "}\n",
    "\n",
    "print(phonebook)\n",
    "phone_num = input(\"Enter Phone number : \")\n",
    "if not phone_num.isdigit() or len(phone_num) != 10:\n",
    "    print(\"This is invalid number.\")\n",
    "else:\n",
    "    int_phone_num = int(phone_num)\n",
    "    found = False\n",
    "    for name, number in phonebook.items():\n",
    "        if number == int_phone_num:\n",
    "            print(f\"The owner is {name}.\")\n",
    "            found = True\n",
    "    \n",
    "    if not found:\n",
    "        print(\"Sorry, the number is not found.\")\n",
    "\n",
    "        \n",
    "         "
   ]
  },
  {
   "cell_type": "markdown",
   "metadata": {
    "id": "exLHQ28nbDUJ"
   },
   "source": [
    "### Task 4\n",
    "- Given the following list : [5, 4, 17, 19, 30, 2, 7, 10, 45]\n",
    "    1. Use a lambda function to filter out only the odd numbers.\n",
    "    2. Print the new list of odd numbers."
   ]
  },
  {
   "cell_type": "code",
   "execution_count": 85,
   "metadata": {
    "id": "64SUsh1cbDUJ"
   },
   "outputs": [
    {
     "name": "stdout",
     "output_type": "stream",
     "text": [
      "[5, 17, 19, 7, 45]\n"
     ]
    }
   ],
   "source": [
    "# write your code here ^_^\n",
    "list_numbers = [5, 4, 17, 19, 30, 2, 7, 10, 45]\n",
    "\n",
    "odd_num = [x for x in list_numbers if (lambda x: x %2 !=0) (x)]\n",
    "print(odd_num)\n"
   ]
  },
  {
   "cell_type": "code",
   "execution_count": null,
   "metadata": {},
   "outputs": [],
   "source": []
  }
 ],
 "metadata": {
  "colab": {
   "provenance": []
  },
  "kernelspec": {
   "display_name": "Python 3 (ipykernel)",
   "language": "python",
   "name": "python3"
  },
  "language_info": {
   "codemirror_mode": {
    "name": "ipython",
    "version": 3
   },
   "file_extension": ".py",
   "mimetype": "text/x-python",
   "name": "python",
   "nbconvert_exporter": "python",
   "pygments_lexer": "ipython3",
   "version": "3.12.4"
  }
 },
 "nbformat": 4,
 "nbformat_minor": 4
}
