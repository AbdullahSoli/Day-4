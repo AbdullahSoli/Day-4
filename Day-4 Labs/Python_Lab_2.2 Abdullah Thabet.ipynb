{
 "cells": [
  {
   "cell_type": "markdown",
   "metadata": {
    "id": "E9Y5ss1ZYj3r"
   },
   "source": [
    "# Python_Lab_2.2\n"
   ]
  },
  {
   "cell_type": "markdown",
   "metadata": {
    "id": "Q1kAqc72Yj3t"
   },
   "source": [
    "### Task 1\n",
    "1. Write a program that prompts the user to enter two numbers and prints their division. Handle cases where the user enters non-numeric values or attempts to divide by zero using a try-except block.\n"
   ]
  },
  {
   "cell_type": "code",
   "execution_count": 8,
   "metadata": {
    "id": "H-xyoRTVYj3t"
   },
   "outputs": [
    {
     "name": "stdin",
     "output_type": "stream",
     "text": [
      "Enter the first number:  1w2\n",
      "Enter the second number:  12\n"
     ]
    },
    {
     "name": "stdout",
     "output_type": "stream",
     "text": [
      "Invalid input. Please enter  Number.\n"
     ]
    }
   ],
   "source": [
    "# write your code here ^_^\n",
    "try:\n",
    "        num1 = input(\"Enter the first number: \")\n",
    "        num2 = input(\"Enter the second number: \")\n",
    "        num1 = float(num1)\n",
    "        num2 = float(num2)\n",
    "        result = num1 / num2\n",
    "    \n",
    "        print(f\"The result  is {result:.2f}\")\n",
    "\n",
    "except ValueError:\n",
    "        print(\"Invalid input. Please enter  Number.\")\n",
    "except ZeroDivisionError:\n",
    "        print(\"Error: Division by zero is not allowed.\")"
   ]
  },
  {
   "cell_type": "markdown",
   "metadata": {
    "id": "CPWcDSC_Yj3u"
   },
   "source": [
    "### Task 2\n",
    "- Use \"Random\" library to do the following:\n",
    "    1. Create a list of random numbers using list comprehension.\n",
    "    2. Create a list of squares of the even numbers from random numbers using list comprehension.\n",
    "    3. Create a list of tuples (number, square) for random numbers using list comprehension."
   ]
  },
  {
   "cell_type": "code",
   "execution_count": 40,
   "metadata": {
    "id": "Yfq-i6CeYj3u"
   },
   "outputs": [
    {
     "name": "stdout",
     "output_type": "stream",
     "text": [
      "[35, 28, 13, 47, 24, 40, 45, 8, 19, 47, 2, 17, 32, 43, 36]\n",
      "--------------------------------------------------\n",
      "[14, 49, 4, 20, 39, 2, 36, 26, 6, 19, 40, 26, 30, 9, 37]\n",
      "[196, 16, 400, 4, 1296, 676, 36, 1600, 676, 900]\n",
      "--------------------------------------------------\n",
      "[15, 14, 20, 28, 13, 13, 25, 11, 37, 0]\n",
      "[(15, 225), (14, 196), (20, 400), (28, 784), (13, 169), (13, 169), (25, 625), (11, 121), (37, 1369), (0, 0)]\n"
     ]
    }
   ],
   "source": [
    "# write your code here ^_^\n",
    "import random\n",
    "rand_list_1 = [random.randint(0, 50) for _ in range(15)]\n",
    "print(rand_list_1)\n",
    "print(\"--------------------------------------------------\")\n",
    "#----------------------------------------------------\n",
    "rand_list_2 = [random.randint(0, 50) for _ in range(15)]\n",
    "sqr_rand_list = [num**2 for num in rand_list_2 if num%2==0]\n",
    "print(rand_list_2)\n",
    "print(sqr_rand_list)\n",
    "print(\"--------------------------------------------------\")\n",
    "#-----------------------------------------------------\n",
    "rand_list_3 = [random.randint(0, 50) for _ in range(10)]\n",
    "tupel_list = [(num,num**2)for num in rand_list_3  ]\n",
    "print(rand_list_3)\n",
    "print (tupel_list)"
   ]
  },
  {
   "cell_type": "markdown",
   "metadata": {
    "id": "jYdOq46NYj3u"
   },
   "source": [
    "### Task 3\n",
    "- Create a dictionary where the keys are numbers from 1 to 5 and the values are list of their squares and cubes.\n",
    "\n",
    "  - **hint**: use dictionary of list comprehension.\n",
    "\n",
    "- Create a dictionary from two lists (one with keys and one with values) using dictionary comprehension.\n",
    "\n"
   ]
  },
  {
   "cell_type": "code",
   "execution_count": 16,
   "metadata": {
    "id": "IEnsiNmCYj3u"
   },
   "outputs": [
    {
     "name": "stdout",
     "output_type": "stream",
     "text": [
      "{1: [1, 1], 2: [4, 8], 3: [9, 27], 4: [16, 64], 5: [25, 125]}\n"
     ]
    }
   ],
   "source": [
    "# write your code here ^_^\n",
    "ren= range(1,6)\n",
    "numbers_dic = {number : [number**2, number**3] for number in ren}\n",
    "print(numbers_dic)"
   ]
  },
  {
   "cell_type": "markdown",
   "metadata": {
    "id": "6T9TCQ8SYj3v"
   },
   "source": [
    "### Task 4\n",
    "- Given a dictionary where keys are student names and values are lists of their scores, write a function that updates the scores of students who have achieved a perfect score (100) by adding a bonus of 5 points to each score. Use dictionary comprehension to achieve this.\n",
    "\n",
    "    - Implement the function add_bonus_to_perfect_scores(student_scores) that adds a bonus of 5 points to each score of students who have achieved a perfect score (100)."
   ]
  },
  {
   "cell_type": "code",
   "execution_count": 76,
   "metadata": {
    "id": "T3R_VsQpYj3v"
   },
   "outputs": [
    {
     "name": "stdout",
     "output_type": "stream",
     "text": [
      "Scores before Update :{'Ali': [60, 80, 70], 'Abdullah': [99, 100, 100], 'Anas': [85, 100, 90], 'Fares': [100, 100, 100], 'Mazen': [80, 100, 90]}\n",
      "Scores sfter update :{'Ali': [60, 80, 70], 'Abdullah': [99, 105, 105], 'Anas': [85, 105, 90], 'Fares': [105, 105, 105], 'Mazen': [80, 105, 90]}\n"
     ]
    }
   ],
   "source": [
    "# write your code here ^_^\n",
    "\n",
    "def add_bonus_to_perfect_scores(student_scores):\n",
    "    update_scores = {\n",
    "        student_name: [score + 5 if score == 100 else score for score in score] for student_name , score in student_scores.items() \n",
    "    }\n",
    "    return update_scores\n",
    "    \n",
    "student_scores = {\n",
    "    \"Ali\" : [60,80,70] , \n",
    "    \"Abdullah\" : [99,100,100] ,  \n",
    "    \"Anas\" : [85,100,90] ,  \n",
    "    \"Fares\" : [100,100,100] ,  \n",
    "    \"Mazen\" : [80,100,90]   \n",
    "    }\n",
    "\n",
    "print(\"Scores before Update :%s\"%student_scores)\n",
    "update_scores = add_bonus_to_perfect_scores(student_scores)\n",
    "print(\"Scores sfter update :%s\"%update_scores)"
   ]
  },
  {
   "cell_type": "markdown",
   "metadata": {
    "id": "rJkOEFAwYj3v"
   },
   "source": []
  }
 ],
 "metadata": {
  "colab": {
   "provenance": []
  },
  "kernelspec": {
   "display_name": "Python 3 (ipykernel)",
   "language": "python",
   "name": "python3"
  },
  "language_info": {
   "codemirror_mode": {
    "name": "ipython",
    "version": 3
   },
   "file_extension": ".py",
   "mimetype": "text/x-python",
   "name": "python",
   "nbconvert_exporter": "python",
   "pygments_lexer": "ipython3",
   "version": "3.12.4"
  }
 },
 "nbformat": 4,
 "nbformat_minor": 4
}
